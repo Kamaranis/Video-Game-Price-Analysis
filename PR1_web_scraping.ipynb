{
 "cells": [
  {
   "cell_type": "markdown",
   "metadata": {},
   "source": [
    "# <a id='toc1_'></a>[Web Scraping PR1](#toc0_)"
   ]
  },
  {
   "cell_type": "markdown",
   "metadata": {},
   "source": [
    "**Table of contents**<a id='toc0_'></a>    \n",
    "- [Web Scraping PR1](#toc1_)    \n",
    "  - [Propuesta Inicial](#toc1_1_)    \n",
    "    - [Archivos Robots.txt](#toc1_1_1_)    \n",
    "\n",
    "<!-- vscode-jupyter-toc-config\n",
    "\tnumbering=false\n",
    "\tanchor=true\n",
    "\tflat=false\n",
    "\tminLevel=1\n",
    "\tmaxLevel=6\n",
    "\t/vscode-jupyter-toc-config -->\n",
    "<!-- THIS CELL WILL BE REPLACED ON TOC UPDATE. DO NOT WRITE YOUR TEXT IN THIS CELL -->"
   ]
  },
  {
   "cell_type": "markdown",
   "metadata": {},
   "source": [
    "## <a id='toc1_1_'></a>[Propuesta Inicial](#toc0_)\n",
    "La propuesta inicial era buscar un tema algo lúdico, por lo que esta propuesta girara en torno a sitios webs relacionados con lo lúdico (juegos de mesa, video juegos, etc.)¿Sobre que tema podríamos enfocar la PR? pues con esta premisa en mente, he recopilado información para empezar a trabajar.\n",
    "\n",
    "A continuación listo algunos sitios webs que podrían ser interesantes:  \n",
    "\n",
    "1. [SteamDB](https://steamdb.info/) Base de datos de la plataforma Steam, en inglés. Los datos que se pueden recopilar fuera de la API estarían limitados.\n",
    "2. [BoardGameGeek](https://boardgamegeek.com/) fuente de información sobre juegos de mesa, con datos sobre la puntuación, la complejidad, la mecánica, etc.\n",
    "3. [Metacritic Video Games](https://www.metacritic.com/game/) Recopila reseñas de videojuegos y les asigna una puntuación media. Información sobre el nombre del juego, la plataforma, la fecha de lanzamiento, el género, la puntuación de la crítica, la puntuación de los usuarios, etc.\n",
    "4. [HowlongBeat](https://howlongtobeat.com/) Tienen formación sobre la duración de los videojuegos, tanto para la historia principal como para completarlos al 100%. Contiene datos sobre el nombre del juego, la plataforma, el tiempo estimado para completarlo, etc.\n",
    "5. [vgchartz](https://www.vgchartz.com/) Ofrece información sobre las ventas de videojuegos, incluyendo el número de unidades vendidas por plataforma y región. Tiene datos sobre el nombre del juego, la plataforma, las ventas totales, etc.\n",
    "6. [TCGPlayer](https://www.tcgplayer.com/) Se especializa en la venta de cartas coleccionables, incluyendo Magic: The Gathering, Pokémon y Yu-Gi-Oh!. Contiene datos sobre el nombre de la carta, el precio, la rareza, la edición, etc.\n",
    "7. [Cardmarket](https://www.cardmarket.com/) Parecida a TCGPlayer, esta web ofrece una amplia selección de cartas coleccionables y permitiría extraer datos sobre precios, disponibilidad, etc.\n",
    "8. [PriceCharting](https://www.pricecharting.com/) Rastrea el precio histórico de videojuegos, consolas, juegos de mesa y cartas coleccionables. Se podria extraer datos sobre la evolución del precio de un producto a lo largo del tiempo.\n",
    "9. [Camelcamelcamel](https://camelcamelcamel.com/) Enfocada en Amazon. Rastrea el historial de precios de productos en Amazon, lo que permite analizar las fluctuaciones de precios y encontrar ofertas.  \n",
    "\n",
    "Destacar que todos los sitios web están en inglés.  \n",
    "\n",
    "A continuación he empezado por analizar los archivos Robots.txt:  "
   ]
  },
  {
   "cell_type": "markdown",
   "metadata": {},
   "source": [
    "### <a id='toc1_1_1_'></a>[Archivos Robots.txt](#toc0_)\n",
    "\n",
    "\n",
    "1. SteamdDB  \n",
    "\n",
    "En general, el archivo [robots.txt](https://steamdb.info/robots.txt) de SteamDB está configurado para permitir el acceso a la información básica del sitio web, pero restringe el acceso a datos  específicos y sensibles.\n",
    "\n",
    "2. BoardGameGeek\n",
    "\n",
    "El archivo [robots.txt](https://boardgamegeek.com/robots.txt) de BoardGameGeek es bastante restrictivo.  Permite el acceso a la mayoría del contenido del sitio a todos los rastreadores web (*), pero con un retraso de 5 segundos entre cada solicitud (Crawl-delay: 5). Se Puede extraer información sobre juegos, como nombres, descripciones, mecánicas, puntuaciones, etc., siempre y cuando se respete el Crawl-delay. No podemos acceder a datos de usuarios, historiales,  interacciones o precios de mercado, lo cual en todo caso carece de interés para el proyecto.\n",
    "\n",
    "\n",
    "3. Metacritic Video Games  \n",
    "\n",
    "No se ha encontrado `robots.txt`, pero Metacritic forma parte de Fandom, por lo que el archivo robots.txt revisado es el de [Fandom](https://www.fandom.com/robots.txt), no específicamente el de Metacritic. Esto significa que las reglas se aplican a todo el sitio de Fandom, incluyendo Metacritic.  \n",
    "Se pide a los motores de búsqueda que no indexen las siguientes secciones:  \n",
    "/d/u/  \n",
    "/f2/embed  \n",
    "/fandom?p=  \n",
    "/wp-content/uploads/  \n",
    "Disallow: Se prohíbe el acceso a los rastreadores a las mismas secciones mencionadas en \"Noindex\".\n",
    "\n",
    "Las reglas generales de Fandom permiten rastrear e indexar la información principal del sitio, incluyendo las páginas de reseñas de videojuegos.\n",
    "\n",
    "4. HowlongBeat  \n",
    "\n",
    "El archivo [robots.txt](https://howlongtobeat.com/robots.txt) de HowLongToBeat es bastante sencillo. \n",
    "\n",
    "- Permite el acceso a todos los rastreadores web (User-agent: *) a todo el sitio -(Disallow:) excepto a la sección /admin y /api. \n",
    "- Bloquea completamente el acceso a tres rastreadores específicos: Exabot, PiplBot y GPTBot.\n",
    "\n",
    "Ello supone que es posible rastrear la mayor parte del sitio web de HowLongToBeat, incluyendo las páginas de juegos, para extraer información sobre la duración de los juegos.\n",
    "\n",
    "5. vgchartz\n",
    "\n",
    "El archivo [robots.txt](https://www.vgchartz.com/robots.txt) de VGChartz es muy permisivo. En teoría, no hay restricciones explícitas para el web scraping en VGChartz según su robots.txt. Es posible rastrear cualquier sección del sitio web sin infringir sus reglas. La revision de los [términos del servicio](https://www.vgchartz.com/terms-of-use.php) tampoco incluyen restricciones en el ámbito del raspado web.\n",
    "\n",
    "\n",
    "[...]\n",
    "\n",
    "Y he parado a la mitad por si te parece bien, completes por tu parte el resto de sitios web listados o propongas algunos nuevos.\n"
   ]
  }
 ],
 "metadata": {
  "kernelspec": {
   "display_name": "base",
   "language": "python",
   "name": "python3"
  },
  "language_info": {
   "name": "python",
   "version": "3.11.7"
  }
 },
 "nbformat": 4,
 "nbformat_minor": 2
}
